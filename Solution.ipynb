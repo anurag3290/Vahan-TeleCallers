{
 "cells": [
  {
   "cell_type": "code",
   "execution_count": 1,
   "metadata": {},
   "outputs": [],
   "source": [
    "import pandas as pd\n",
    "import numpy as np\n",
    "import matplotlib.pyplot as plt\n",
    "import seaborn as sns\n",
    "import datetime as dt\n",
    "%matplotlib inline\n",
    "pd.set_option('display.max_columns', 300)\n",
    "pd.set_option('display.max_row', 1000)"
   ]
  },
  {
   "cell_type": "markdown",
   "metadata": {},
   "source": [
    "### Dictionaries to treat vague values"
   ]
  },
  {
   "cell_type": "code",
   "execution_count": 2,
   "metadata": {},
   "outputs": [],
   "source": [
    "# Dictionary for City To State\n",
    "dis2state= {\"Bangalore\":\"Karnataka\",\"Chennai\":\"Tamil Nadu\",\"Pondicherry\":\"Puducherry\",\"Kerala\":\"Kerala\",\"Belagavi\":\"Karnataka\",\"Yadhgirir\":\"Karnataka\",\"Hyderabad\":\"Andhra Pradesh\",\"Ahmedabad\":\"Gujarat\",\"Madurai\":\"Tamil Nadu\",\"Trichy\":\"Tamil Nadu\",\"Coimbatore\":\"Tamil Nadu\",\"your city\":\"Others\",\"Kadapa\":\"Andhra Pradesh\",\"Siliguri\":\"West Bengal\",\"Gadwal\":\"Telangana\",\"Tamilnadu\":\"Tamil Nadu\",\"Nellore\":\"Andhra Pradesh\",\"Warangal\":\"Telangana\",\"Anantapur\":\"Andhra Pradesh\",\"Chennai/Bangalore\":\"Tamil Nadu\",\"Uttarakhand\":\"Uttarakhand\",\"Nagaon\":\"Assam\",\"Mangalore\":\"Karnataka\"}\n",
    "# Dictionary for Source\n",
    "dictSource = {\"Referrals\":\"Referrals\",\"Delhi-NCR\":\"Referrals\",\"API\":\"API\",\"WhatsApp OptIn Form\":\"WhatsApp\",\"Facebook\":\"Facebook\",\"unknown\":\"Others\",\"Airavatha data\":\"Referrals\",\"Reused Leads\":\"Referrals\",\"Web Chat Referrals\":\"Referrals\",\"Sandeep\":\"Referrals\",\"Ubereats Existing list\":\"Referrals\",\"CorpW\":\"Referrals\",\"lynk-mas-qkr-oct3\":\"API\",\"blr-nrby-aug-2\":\"API\",\"Delivery_lynk_che_tam_08 Nov 19\":\"API\",\"micl-mas-qkr-oct3\":\"API\",\"Quikr\":\"Referrals\",\"blr-nrby-b2-aug-12-rep1\":\"API\",\"Vikram\":\"Referrals\",\"fb-remarketing-mumbai-july18\":\"Facebook\",\"Quikr_Zomato_Chennai\":\"Referrals\",\"blr-nrby-aug-2-rep1\":\"API\",\"micl-mas-qkr-oct11\":\"API\",\"Quikr_Zomato_Bangalore\":\"Referrals\",\"smsBlast-mig2wa\":\"WhatsApp\",\"Web Chat\":\"Facebook\",\"delhi-lal-july-29-1mil-b2-rep\":\"API\",\"fb-lookalike-mumbai-july25\":\"Facebook\",\"blr-nrby-b3-aug-13-rep1\":\"API\",\"fb-lookalike-andhra-july25\":\"Facebook\",\"blr-nrby-b2-aug-12\":\"API\",\"atuber-blrvic1mil-kan-19-sep-rep1\":\"API\",\"fb-ad-mumbai\":\"Facebook\",\"Quikr_Zomato_Hyderabad\":\"Referrals\",\"fb-lookalike-chennai-sept13\":\"Facebook\",\"fb-uber-sep-2019-excl\":\"Facebook\",\"delhi-lal-july-29-1mil-b2\":\"API\",\"Quikr_Document\":\"Referrals\",\"Quikr_Mumbai\":\"Referrals\",\"atuber-blrvic1milb2-kan-20-sep\":\"API\",\"delhi-lal-july-31-1mil-b4-rep\":\"API\",\"Quikr_Zomato_Patna\":\"Referrals\",\"atuber-blrvic1milb2-kan-20-sep-rep1\":\"API\",\"lalamoveHyderabad\":\"Referrals\",\"blr-nrby-b3-aug-13\":\"API\",\"delhi-lal-july-26-1mil\":\"API\",\"Bangalore_Reuse_Leads\":\"Referrals\",\"Quikr_Delivery_Chennai\":\"Referrals\",\"delhi-lal-july-30-1mil-b3\":\"API\",\"fb-remarketing-andhra-july18\":\"Facebook\",\"Quikr_Zomato_DelhiHyd\":\"Referrals\",\"atuber-blrvic1mil-kan-19-sep\":\"API\",\"fb-acq-zom-sms-july-23\":\"Facebook\",\"ddun-nrby-aug-2\":\"Referrals\",\"delhi-lal-july-31-1mil-b4\":\"API\",\"atuber-blrvic1mil-kan-19-sep-rep2\":\"API\",\"delhi-lal-july-30-1mil-b3-rep\":\"API\",\"fb-gati-sep-2019-ed-unempl\":\"Facebook\",\"Webform\":\"Facebook\",\"delhi-lal-july-26-1mil-rep\":\"API\",\"Unified Interface\":\"Facebook\",\"Referrals-webform\":\"Referrals\",\"fb-lookalike-maharashtra-july25\":\"Facebook\",\"lalamoveBangalore\":\"Referrals\",\"fb-lookalike-bangalore-sept18\":\"API\",\"fb-lookalike-bangalore-sept27\":\"API\",\"Quikr_Document_Bangalore\":\"Referrals\",\"fb-remarketing-karnataka-july18\":\"Facebook\",\"smsBlast-Reused leads\":\"Referrals\",\"Ecom Express\":\"Referrals\",\"atuber-kan-17-oct-rep\":\"API\",\"Uber BGC not cleared data\":\"Referrals\",\"fb-remarketing-maharashtra-july18\":\"Facebook\",\"Partnership - Nudge\":\"Referrals\",\"majestic-july-6\":\"API\",\"fb-lookalike-hyderabad-sept13\":\"Facebook\",\"fb-localtraits-bangalore-sept27\":\"Facebook\",\"ublr-06-sep-3lac\":\"API\",\"Resume\":\"Referrals\",\"delhi-lal-july-19\":\"API\",\"delhi-18-30yo-lt10k-remit-rep1\":\"API\",\"Punjab\":\"Referrals\",\"atuber-kan-18-oct-rep\":\"API\",\"power_referrers_9 Nov 19\":\"API\",\"fb-remarketing-chennai-july18\":\"Facebook\",\"ublr-09-sep-3lac\":\"API\",\"delhi-18-33yo-10-15k-hdat-july-17\":\"API\",\"fb-uber-sep-2019-ed-unempl\":\"Facebook\",\"Uttar Pradesh\":\"Referrals\",\"Quikr_Zomato\":\"Referrals\",\"fb-lookalike-chennai-july25\":\"Facebook\",\"delhi-18-30yo-lt10k\":\"API\",\"atl-reeng-sms\":\"WhatsApp\",\"Ola/Uber/Move in synk\":\"Referrals\",\"Quikr SMS\":\"WhatsApp\",\"fb-lookalike-ncr-july25\":\"Facebook\",\"Andhra Pradesh\":\"Referrals\",\"power_referrers\":\"Referrals\",\"fb-localtraits-bangalore-sept18\":\"Facebook\",\"fb-remarketing-ncr-july18\":\"Facebook\",\"ubblr-qkr-sep25-klish\":\"API\",\"Tamil Nadu\":\"Referrals\",\"central-delhi-30-45yo-gt10k\":\"API\",\"Karnataka\":\"Referrals\",\"patna-18-30yo-gt10k-rep1-july-19\":\"API\",\"PWA\":\"Referrals\"}\n",
    "# Dictionary for Status\n",
    "dictStatus = {\"CNP/Switched Off/Not Reachable\":\"RNR\",\"Wrong Number/Number Not Valid\":\"Not-Interested\",\"Very Interested\":\"Interested\",\"RNR\":\"RNR\",\"Not Interested - Disconnected the Call\":\"Not-Interested\",\"Not Interested - Got Other Jobs\":\"Not-Interested\",\"Not Interested - Not Applied\":\"Not-Interested\",\"Not Interested\":\"Not-Interested\",\"Interested\":\"Interested\",\"Not Applied\":\"RNR\",\"Not Interested - Wrong Number\":\"Not-Interested\",\"Don't Meet Requirements\":\"RNR\",\"Other Reasons\":\"RNR\",\"Switched Off/Not Reachable\":\"RNR\",\"Disconnected the Call\":\"RNR\",\"Switched Off/Not Reachable/No Incoming\":\"RNR\",\"Not Interested - Location Issue\":\"Not-Interested\",\"Want Non-Delivery Jobs\":\"RNR\",\"Not Interested - Applied by Mistake\":\"Not-Interested\",\"Not Interested - Not Sure\":\"Not-Interested\",\"Not Interested - Others\":\"Not-Interested\",\"Not Sure\":\"RNR\",\"Joined\":\"Not-Interested\",\"Got Other Jobs\":\"Not-Interested\",\"Location Issue\":\"RNR\",\"Language Barrier\":\"RNR\",\"Not Interested - Want Non-Delivery Jobs\":\"Not-Interested\",\"Applied for Someone Else\":\"RNR\",\"Applied by Mistake\":\"Not-Interested\",\"Not sure\":\"RNR\",\"Not Interested - Want Jobs in Other Category\":\"Not-Interested\",\"Number Not Valid/Number Does Not Exist\":\"Not-Interested\",\"Call Back\":\"RNR\",\"Not Interested - Want Jobs in Other Company (but same category)\":\"Not-Interested\",\"Not Interested - Call Back\":\"Not-Interested\",\"Want Other Delivery Jobs\":\"RNR\",\"Disconnected the call\":\"RNR\",\"Not Interested - Want Other Delivery Jobs\":\"Not-Interested\",\"Not Interested but Referred Someone\":\"Not-Interested\",\"Interested but CNP on Follow-up\":\"Interested\",\"Interested and Referred Someone\":\"Interested\",\"Interested but in village\":\"Interested\",\"Interested but RNR on Follow-up\":\"Interested\",\"Not interested\":\"Not-Interested\",\"Applied by mistake\":\"Not-Interested\",\"Location issue\":\"RNR\",\"CNP/Switched off/Not Reachable\":\"RNR\",\"Switched Off/Not Reachable/No Incoming Up\":\"RNR\"}"
   ]
  },
  {
   "cell_type": "markdown",
   "metadata": {},
   "source": [
    "### Reading Files"
   ]
  },
  {
   "cell_type": "code",
   "execution_count": 3,
   "metadata": {},
   "outputs": [],
   "source": [
    "leads = pd.read_csv(\"~/Downloads/leads.csv\",index_col=False, encoding='Latin-1')\n",
    "lead_calls = pd.read_csv(\"~/Downloads/lead_calls.csv\",index_col=False)\n",
    "telecallers = pd.read_csv(\"~/Downloads/telecallers.csv\",index_col=False)"
   ]
  },
  {
   "cell_type": "code",
   "execution_count": 38,
   "metadata": {},
   "outputs": [
    {
     "data": {
      "text/plain": [
       "(12335, 5)"
      ]
     },
     "execution_count": 38,
     "metadata": {},
     "output_type": "execute_result"
    }
   ],
   "source": [
    "lead_calls.shape"
   ]
  },
  {
   "cell_type": "markdown",
   "metadata": {},
   "source": [
    "# Data Cleaning"
   ]
  },
  {
   "cell_type": "markdown",
   "metadata": {},
   "source": [
    "## 1. leads table"
   ]
  },
  {
   "cell_type": "markdown",
   "metadata": {},
   "source": [
    "### Dropping columns id, userId, name, phoneNumber \n",
    "\n",
    "#### As userId is used for some internal table. Name and phone number have redundant values and are of no use\n",
    "#### Removing createdAt date column as we will use receivedAt date "
   ]
  },
  {
   "cell_type": "code",
   "execution_count": 4,
   "metadata": {},
   "outputs": [],
   "source": [
    "leads = leads.drop(['userId','name','phoneNumber','createdAt'], axis=1)"
   ]
  },
  {
   "cell_type": "code",
   "execution_count": 5,
   "metadata": {},
   "outputs": [
    {
     "name": "stdout",
     "output_type": "stream",
     "text": [
      "id               0\n",
      "city           738\n",
      "state         1380\n",
      "source           2\n",
      "isExternal       0\n",
      "receivedAt       0\n",
      "dtype: int64\n",
      "No. of rows where Both Values are missing 718\n"
     ]
    }
   ],
   "source": [
    "print(leads.isnull().sum())\n",
    "print(\"No. of rows where Both Values are missing\",sum(leads.apply(lambda x: sum(x.isnull().values), axis = 1)>1))"
   ]
  },
  {
   "cell_type": "markdown",
   "metadata": {},
   "source": [
    "#### 7.4% city and 14% state values are missing. 7.24% where both values are missing"
   ]
  },
  {
   "cell_type": "code",
   "execution_count": 6,
   "metadata": {},
   "outputs": [
    {
     "name": "stderr",
     "output_type": "stream",
     "text": [
      "/home/anurag/anaconda3/lib/python3.7/site-packages/ipykernel_launcher.py:4: SettingWithCopyWarning: \n",
      "A value is trying to be set on a copy of a slice from a DataFrame\n",
      "\n",
      "See the caveats in the documentation: http://pandas.pydata.org/pandas-docs/stable/indexing.html#indexing-view-versus-copy\n",
      "  after removing the cwd from sys.path.\n"
     ]
    }
   ],
   "source": [
    "# Using the dictionary to map city to state\n",
    "for i in leads.index:\n",
    "    if leads[\"city\"][i] in dis2state.keys() and pd.isnull(leads['state'][i]):\n",
    "        leads['state'][i] = dis2state.get(leads[\"city\"][i])"
   ]
  },
  {
   "cell_type": "markdown",
   "metadata": {},
   "source": [
    "#### Many states are worngly indicated in the leads table. Hence correcting."
   ]
  },
  {
   "cell_type": "code",
   "execution_count": 7,
   "metadata": {},
   "outputs": [],
   "source": [
    "leads.loc[leads['state'] == 'Delhi'] = 'Delhi-NCR'\n",
    "leads.loc[leads['state'] == 'UP'] = 'Uttar Pradesh'\n",
    "leads.loc[leads['state'] == 'Tamilnadu'] = 'Tamil Nadu'\n",
    "leads.loc[leads['state'] == 'Bangalore'] = 'Karnataka'\n",
    "leads.loc[leads['state'] == '#REF!'] = 'Andhra Pradesh'\n",
    "leads.loc[leads['state'] == 'Chandigarh'] = 'Punjab'"
   ]
  },
  {
   "cell_type": "markdown",
   "metadata": {},
   "source": [
    "#### Source: Due to a lot of vague values in sources, It will be good to categorize it in labels as : Referrals | API | WhatsApp | Facebook | Others"
   ]
  },
  {
   "cell_type": "code",
   "execution_count": 8,
   "metadata": {},
   "outputs": [],
   "source": [
    "leads[\"source\"] = leads.source.map(dictSource) "
   ]
  },
  {
   "cell_type": "markdown",
   "metadata": {},
   "source": [
    "#### isExternal: There are other state values (other than True or False). We can consider them as True as these are also from external sources"
   ]
  },
  {
   "cell_type": "code",
   "execution_count": 9,
   "metadata": {},
   "outputs": [],
   "source": [
    "leads[\"isExternal\"]=leads[\"isExternal\"].apply(lambda x: True if x!=False else False)"
   ]
  },
  {
   "cell_type": "markdown",
   "metadata": {},
   "source": [
    "## 2. lead_calls table"
   ]
  },
  {
   "cell_type": "code",
   "execution_count": 10,
   "metadata": {},
   "outputs": [],
   "source": [
    "# Dropping createdAt and comments\n",
    "lead_calls = lead_calls.drop(['comments','createdAt'], axis=1)"
   ]
  },
  {
   "cell_type": "markdown",
   "metadata": {},
   "source": [
    "#### Converting vague status to 3 categories: Interested | Not-Interested | RNR"
   ]
  },
  {
   "cell_type": "code",
   "execution_count": 11,
   "metadata": {},
   "outputs": [],
   "source": [
    "lead_calls[\"status\"] = lead_calls.status.map(dictStatus) "
   ]
  },
  {
   "cell_type": "markdown",
   "metadata": {},
   "source": [
    "#### Client has 'Uber Eats' and 'Uber eats'. Merging them to one."
   ]
  },
  {
   "cell_type": "code",
   "execution_count": 12,
   "metadata": {},
   "outputs": [
    {
     "data": {
      "text/plain": [
       "Zomato          5236\n",
       "Swiggy          2235\n",
       "Uber Eats        952\n",
       "Move in sync     400\n",
       "1 MG             337\n",
       "Rapido           330\n",
       "Amazon Flex      277\n",
       "Random           277\n",
       "Dunzo            256\n",
       "Lynk             232\n",
       "Micelio          194\n",
       "Uber             155\n",
       "Lalamove         154\n",
       "Gati             129\n",
       "KFC              101\n",
       "BharatPe          93\n",
       "Micelio (N)       52\n",
       "Big Basket        36\n",
       "Grab              27\n",
       "Lynk (N)          16\n",
       "Gati (L)           2\n",
       "Name: client, dtype: int64"
      ]
     },
     "execution_count": 12,
     "metadata": {},
     "output_type": "execute_result"
    }
   ],
   "source": [
    "lead_calls.loc[lead_calls['client'] == \"Uber eats\", 'client'] = \"Uber Eats\""
   ]
  },
  {
   "cell_type": "markdown",
   "metadata": {},
   "source": [
    "## 3. telecallers table"
   ]
  },
  {
   "cell_type": "code",
   "execution_count": 13,
   "metadata": {},
   "outputs": [],
   "source": [
    "# Dropping unnecessary columns\n",
    "telecallers = telecallers.drop(['phoneNumber',\"createdAt\"], axis = 1)"
   ]
  },
  {
   "cell_type": "markdown",
   "metadata": {},
   "source": [
    "# Merging Dataframes"
   ]
  },
  {
   "cell_type": "markdown",
   "metadata": {},
   "source": [
    "#### Checking If any telecaller in the lead_calls table is missing in the telecallers table"
   ]
  },
  {
   "cell_type": "code",
   "execution_count": 14,
   "metadata": {},
   "outputs": [
    {
     "data": {
      "text/plain": [
       "True    12335\n",
       "Name: telecallerId, dtype: int64"
      ]
     },
     "execution_count": 14,
     "metadata": {},
     "output_type": "execute_result"
    }
   ],
   "source": [
    "lead_calls['telecallerId'].isin(telecallers['id']).value_counts()"
   ]
  },
  {
   "cell_type": "markdown",
   "metadata": {},
   "source": [
    "#### Replacing telecallerId in lead_calls table with their respective names"
   ]
  },
  {
   "cell_type": "code",
   "execution_count": 15,
   "metadata": {},
   "outputs": [],
   "source": [
    "lead_calls = lead_calls.merge(telecallers, left_on='telecallerId', right_on='id')\n",
    "lead_calls = lead_calls.drop(['id_y','id_x',\"telecallerId\"], axis = 1)"
   ]
  },
  {
   "cell_type": "markdown",
   "metadata": {},
   "source": [
    "#### Checking if all the leads have been called "
   ]
  },
  {
   "cell_type": "code",
   "execution_count": 16,
   "metadata": {
    "scrolled": true
   },
   "outputs": [
    {
     "data": {
      "text/plain": [
       "True     8710\n",
       "False    1206\n",
       "Name: id, dtype: int64"
      ]
     },
     "execution_count": 16,
     "metadata": {},
     "output_type": "execute_result"
    }
   ],
   "source": [
    "# 87.84% leads have been called.\n",
    "leads['id'].isin(lead_calls['leadId']).value_counts()"
   ]
  },
  {
   "cell_type": "markdown",
   "metadata": {},
   "source": [
    "#### Merging lead and lead_calls table"
   ]
  },
  {
   "cell_type": "code",
   "execution_count": 17,
   "metadata": {},
   "outputs": [
    {
     "name": "stdout",
     "output_type": "stream",
     "text": [
      "(11003, 10)\n"
     ]
    },
    {
     "data": {
      "text/html": [
       "<div>\n",
       "<style scoped>\n",
       "    .dataframe tbody tr th:only-of-type {\n",
       "        vertical-align: middle;\n",
       "    }\n",
       "\n",
       "    .dataframe tbody tr th {\n",
       "        vertical-align: top;\n",
       "    }\n",
       "\n",
       "    .dataframe thead th {\n",
       "        text-align: right;\n",
       "    }\n",
       "</style>\n",
       "<table border=\"1\" class=\"dataframe\">\n",
       "  <thead>\n",
       "    <tr style=\"text-align: right;\">\n",
       "      <th></th>\n",
       "      <th>client</th>\n",
       "      <th>status</th>\n",
       "      <th>calledAt</th>\n",
       "      <th>name</th>\n",
       "      <th>id</th>\n",
       "      <th>city</th>\n",
       "      <th>state</th>\n",
       "      <th>source</th>\n",
       "      <th>isExternal</th>\n",
       "      <th>receivedAt</th>\n",
       "    </tr>\n",
       "  </thead>\n",
       "  <tbody>\n",
       "    <tr>\n",
       "      <th>0</th>\n",
       "      <td>Amazon Flex</td>\n",
       "      <td>Not-Interested</td>\n",
       "      <td>2019-07-25T17:00:00Z</td>\n",
       "      <td>Sheeba</td>\n",
       "      <td>724467a5-52d1-4989-a870-99ae65d3e0e8</td>\n",
       "      <td>Bangalore</td>\n",
       "      <td>Karnataka</td>\n",
       "      <td>Referrals</td>\n",
       "      <td>False</td>\n",
       "      <td>2019-02-24T00:00:00Z</td>\n",
       "    </tr>\n",
       "    <tr>\n",
       "      <th>1</th>\n",
       "      <td>Lalamove</td>\n",
       "      <td>Not-Interested</td>\n",
       "      <td>2019-08-30T14:00:00Z</td>\n",
       "      <td>Sheeba</td>\n",
       "      <td>fea7fb85-3355-4747-98fd-dae1b9aca52a</td>\n",
       "      <td>Hyderabad</td>\n",
       "      <td>Telangana</td>\n",
       "      <td>Facebook</td>\n",
       "      <td>False</td>\n",
       "      <td>2019-08-21T00:00:00Z</td>\n",
       "    </tr>\n",
       "    <tr>\n",
       "      <th>2</th>\n",
       "      <td>Lalamove</td>\n",
       "      <td>RNR</td>\n",
       "      <td>2019-08-27T15:00:00Z</td>\n",
       "      <td>Sheeba</td>\n",
       "      <td>fea7fb85-3355-4747-98fd-dae1b9aca52a</td>\n",
       "      <td>Hyderabad</td>\n",
       "      <td>Telangana</td>\n",
       "      <td>Facebook</td>\n",
       "      <td>False</td>\n",
       "      <td>2019-08-21T00:00:00Z</td>\n",
       "    </tr>\n",
       "    <tr>\n",
       "      <th>3</th>\n",
       "      <td>Lalamove</td>\n",
       "      <td>RNR</td>\n",
       "      <td>2019-08-21T17:00:00Z</td>\n",
       "      <td>Sheeba</td>\n",
       "      <td>fea7fb85-3355-4747-98fd-dae1b9aca52a</td>\n",
       "      <td>Hyderabad</td>\n",
       "      <td>Telangana</td>\n",
       "      <td>Facebook</td>\n",
       "      <td>False</td>\n",
       "      <td>2019-08-21T00:00:00Z</td>\n",
       "    </tr>\n",
       "    <tr>\n",
       "      <th>4</th>\n",
       "      <td>Zomato</td>\n",
       "      <td>Not-Interested</td>\n",
       "      <td>2020-06-01T10:30:00Z</td>\n",
       "      <td>Sheeba</td>\n",
       "      <td>3308d114-a9ed-4d81-8d08-50b28171790f</td>\n",
       "      <td>Hyderabad</td>\n",
       "      <td>Telangana</td>\n",
       "      <td>Referrals</td>\n",
       "      <td>False</td>\n",
       "      <td>2019-05-29T00:00:00Z</td>\n",
       "    </tr>\n",
       "  </tbody>\n",
       "</table>\n",
       "</div>"
      ],
      "text/plain": [
       "        client          status              calledAt    name  \\\n",
       "0  Amazon Flex  Not-Interested  2019-07-25T17:00:00Z  Sheeba   \n",
       "1     Lalamove  Not-Interested  2019-08-30T14:00:00Z  Sheeba   \n",
       "2     Lalamove             RNR  2019-08-27T15:00:00Z  Sheeba   \n",
       "3     Lalamove             RNR  2019-08-21T17:00:00Z  Sheeba   \n",
       "4       Zomato  Not-Interested  2020-06-01T10:30:00Z  Sheeba   \n",
       "\n",
       "                                     id       city      state     source  \\\n",
       "0  724467a5-52d1-4989-a870-99ae65d3e0e8  Bangalore  Karnataka  Referrals   \n",
       "1  fea7fb85-3355-4747-98fd-dae1b9aca52a  Hyderabad  Telangana   Facebook   \n",
       "2  fea7fb85-3355-4747-98fd-dae1b9aca52a  Hyderabad  Telangana   Facebook   \n",
       "3  fea7fb85-3355-4747-98fd-dae1b9aca52a  Hyderabad  Telangana   Facebook   \n",
       "4  3308d114-a9ed-4d81-8d08-50b28171790f  Hyderabad  Telangana  Referrals   \n",
       "\n",
       "   isExternal            receivedAt  \n",
       "0       False  2019-02-24T00:00:00Z  \n",
       "1       False  2019-08-21T00:00:00Z  \n",
       "2       False  2019-08-21T00:00:00Z  \n",
       "3       False  2019-08-21T00:00:00Z  \n",
       "4       False  2019-05-29T00:00:00Z  "
      ]
     },
     "execution_count": 17,
     "metadata": {},
     "output_type": "execute_result"
    }
   ],
   "source": [
    "data = lead_calls.merge(leads, left_on='leadId', right_on='id')\n",
    "data = data.drop(['leadId'], axis = 1)\n",
    "print(data.shape)\n",
    "data.head()"
   ]
  },
  {
   "cell_type": "markdown",
   "metadata": {},
   "source": [
    "# Univariate Analysis"
   ]
  },
  {
   "cell_type": "markdown",
   "metadata": {},
   "source": [
    "### 1.  telecallers"
   ]
  },
  {
   "cell_type": "code",
   "execution_count": 18,
   "metadata": {},
   "outputs": [
    {
     "data": {
      "image/png": "[encoded data removed]",
      "text/plain": [
       "<Figure size 432x288 with 1 Axes>"
      ]
     },
     "metadata": {
      "needs_background": "light"
     },
     "output_type": "display_data"
    }
   ],
   "source": [
    "# Out of total 5 telecallers, only 3 are involved in leads calling\n",
    "sns.countplot('name',data=lead_calls)\n",
    "plt.show()"
   ]
  },
  {
   "cell_type": "markdown",
   "metadata": {},
   "source": [
    "### 2. States"
   ]
  },
  {
   "cell_type": "code",
   "execution_count": 19,
   "metadata": {},
   "outputs": [
    {
     "data": {
      "image/png": "[encoded data removed]",
      "text/plain": [
       "<Figure size 1152x432 with 1 Axes>"
      ]
     },
     "metadata": {
      "needs_background": "light"
     },
     "output_type": "display_data"
    }
   ],
   "source": [
    "# The graph clearly shows high leads from Southern India and very few leads from Norhthern India (except Delhi-NCR)\n",
    "plt.figure(figsize=(16, 6))\n",
    "sns.countplot('state',data=leads)\n",
    "plt.show()"
   ]
  },
  {
   "cell_type": "markdown",
   "metadata": {},
   "source": [
    "### 3. Sources"
   ]
  },
  {
   "cell_type": "code",
   "execution_count": 20,
   "metadata": {},
   "outputs": [
    {
     "data": {
      "image/png": "[encoded data removed]",
      "text/plain": [
       "<Figure size 432x288 with 1 Axes>"
      ]
     },
     "metadata": {
      "needs_background": "light"
     },
     "output_type": "display_data"
    }
   ],
   "source": [
    "# Maximum leads are referrals and very few leads from whatsapp or facebook which could be improved\n",
    "sns.countplot('source',data=leads)\n",
    "plt.show()"
   ]
  },
  {
   "cell_type": "markdown",
   "metadata": {},
   "source": [
    "### 4. isExternal"
   ]
  },
  {
   "cell_type": "code",
   "execution_count": 21,
   "metadata": {},
   "outputs": [
    {
     "data": {
      "image/png": "[encoded data removed]",
      "text/plain": [
       "<Figure size 432x288 with 1 Axes>"
      ]
     },
     "metadata": {
      "needs_background": "light"
     },
     "output_type": "display_data"
    }
   ],
   "source": [
    "# ~75% acquired by Job Assistant and ~25% are from external\n",
    "sns.countplot('isExternal',data=leads)\n",
    "plt.show()"
   ]
  },
  {
   "cell_type": "markdown",
   "metadata": {},
   "source": [
    "### 5. Status"
   ]
  },
  {
   "cell_type": "code",
   "execution_count": 22,
   "metadata": {},
   "outputs": [
    {
     "data": {
      "image/png": "[encoded data removed]",
      "text/plain": [
       "<Figure size 432x288 with 1 Axes>"
      ]
     },
     "metadata": {
      "needs_background": "light"
     },
     "output_type": "display_data"
    }
   ],
   "source": [
    "sns.countplot('status',data=lead_calls)\n",
    "plt.show()"
   ]
  },
  {
   "cell_type": "markdown",
   "metadata": {},
   "source": [
    "### 6. Client"
   ]
  },
  {
   "cell_type": "code",
   "execution_count": 23,
   "metadata": {},
   "outputs": [
    {
     "data": {
      "image/png": "[encoded data removed]",
      "text/plain": [
       "<Figure size 1440x432 with 1 Axes>"
      ]
     },
     "metadata": {
      "needs_background": "light"
     },
     "output_type": "display_data"
    }
   ],
   "source": [
    "# Major Emlpoyer are the food delivery services which shows that majorly, Delievery Services are getting targeted\n",
    "plt.figure(figsize=(20, 6))\n",
    "sns.countplot('client',data=lead_calls)\n",
    "plt.show()"
   ]
  },
  {
   "cell_type": "markdown",
   "metadata": {},
   "source": [
    "### 7. Gap (Gap between Lead Recieved and Lead called)"
   ]
  },
  {
   "cell_type": "code",
   "execution_count": 24,
   "metadata": {},
   "outputs": [
    {
     "data": {
      "image/png": "[encoded data removed]",
      "text/plain": [
       "<Figure size 432x288 with 1 Axes>"
      ]
     },
     "metadata": {
      "needs_background": "light"
     },
     "output_type": "display_data"
    }
   ],
   "source": [
    "# The two spikes shows that there is around 1 year gap but this must be definitely data error. As some receivedAt\n",
    "# are of 2020 which are wrong\n",
    "data[[\"calledAt\", \"receivedAt\"]] = data[[\"calledAt\", \"receivedAt\"]].apply(pd.to_datetime)\n",
    "data['gap'] = abs((data['calledAt'] - data['receivedAt']).dt.days)\n",
    "sns.distplot(data['gap']);\n",
    "# There are values like 2020-05-01 10:30:00+00:00 | 2020-04-01 10:30:00+00:00 | 2020-06-01 10:30:00+00:00 \n",
    "# (Values of months & dates got interchanged)"
   ]
  },
  {
   "cell_type": "code",
   "execution_count": 25,
   "metadata": {},
   "outputs": [],
   "source": [
    "# Interchanging month and dates\n",
    "data['calledAt'] = data['calledAt'].astype(str)\n",
    "data.loc[data['calledAt'] == \"2020-06-01 10:30:00+00:00\", 'calledAt'] = \"2020-01-06 10:30:00+00:00\"\n",
    "data.loc[data['calledAt'] == \"2020-05-01 10:30:00+00:00\", 'calledAt'] = \"2020-01-05 10:30:00+00:00\"\n",
    "data.loc[data['calledAt'] == \"2020-04-01 10:30:00+00:00\", 'calledAt'] = \"2020-01-04 10:30:00+00:00\"\n",
    "# Wrong year : Converting 2020 to 2019\n",
    "data.loc[data['calledAt'] == \"2020-08-30 10:30:00+00:00\", 'calledAt'] = \"2019-08-30 10:30:00+00:00\"\n",
    "data.loc[data['calledAt'] == \"2020-08-30 11:30:00+00:00\", 'calledAt'] = \"2019-08-30 11:30:00+00:00\""
   ]
  },
  {
   "cell_type": "code",
   "execution_count": 26,
   "metadata": {},
   "outputs": [
    {
     "data": {
      "image/png": "[encoded data removed]",
      "text/plain": [
       "<Figure size 432x288 with 1 Axes>"
      ]
     },
     "metadata": {
      "needs_background": "light"
     },
     "output_type": "display_data"
    }
   ],
   "source": [
    "# Some values more than 200 shows that there are some callings which is made after a gap of 200 days. This should be reduced\n",
    "data['gap'] = data['gap'].apply(lambda x : abs(x-365) if x>200 else x)\n",
    "data[\"calledAt\"] = data[\"calledAt\"].apply(pd.to_datetime)\n",
    "data['gap'] = abs((data['calledAt'] - data['receivedAt']).dt.days)\n",
    "sns.distplot(data['gap']);"
   ]
  },
  {
   "cell_type": "markdown",
   "metadata": {},
   "source": [
    "# Bivariate Analysis"
   ]
  },
  {
   "cell_type": "markdown",
   "metadata": {},
   "source": [
    "### 1. state and isExternal(Job Assisstant Efficiency per State)"
   ]
  },
  {
   "cell_type": "code",
   "execution_count": 27,
   "metadata": {},
   "outputs": [
    {
     "data": {
      "text/html": [
       "<div>\n",
       "<style scoped>\n",
       "    .dataframe tbody tr th:only-of-type {\n",
       "        vertical-align: middle;\n",
       "    }\n",
       "\n",
       "    .dataframe tbody tr th {\n",
       "        vertical-align: top;\n",
       "    }\n",
       "\n",
       "    .dataframe thead th {\n",
       "        text-align: right;\n",
       "    }\n",
       "</style>\n",
       "<table border=\"1\" class=\"dataframe\">\n",
       "  <thead>\n",
       "    <tr style=\"text-align: right;\">\n",
       "      <th></th>\n",
       "      <th>state</th>\n",
       "      <th>Job_Assistant</th>\n",
       "      <th>External</th>\n",
       "      <th>Job_Assistant_Efficiency</th>\n",
       "    </tr>\n",
       "  </thead>\n",
       "  <tbody>\n",
       "    <tr>\n",
       "      <th>0</th>\n",
       "      <td>Andhra Pradesh</td>\n",
       "      <td>27.0</td>\n",
       "      <td>14.0</td>\n",
       "      <td>65.853659</td>\n",
       "    </tr>\n",
       "    <tr>\n",
       "      <th>1</th>\n",
       "      <td>Assam</td>\n",
       "      <td>7.0</td>\n",
       "      <td>0.0</td>\n",
       "      <td>100.000000</td>\n",
       "    </tr>\n",
       "    <tr>\n",
       "      <th>2</th>\n",
       "      <td>Bihar</td>\n",
       "      <td>23.0</td>\n",
       "      <td>0.0</td>\n",
       "      <td>100.000000</td>\n",
       "    </tr>\n",
       "    <tr>\n",
       "      <th>3</th>\n",
       "      <td>Delhi-NCR</td>\n",
       "      <td>52.0</td>\n",
       "      <td>1200.0</td>\n",
       "      <td>4.153355</td>\n",
       "    </tr>\n",
       "    <tr>\n",
       "      <th>4</th>\n",
       "      <td>Gujarat</td>\n",
       "      <td>4.0</td>\n",
       "      <td>6.0</td>\n",
       "      <td>40.000000</td>\n",
       "    </tr>\n",
       "  </tbody>\n",
       "</table>\n",
       "</div>"
      ],
      "text/plain": [
       "            state  Job_Assistant  External  Job_Assistant_Efficiency\n",
       "0  Andhra Pradesh           27.0      14.0                 65.853659\n",
       "1           Assam            7.0       0.0                100.000000\n",
       "2           Bihar           23.0       0.0                100.000000\n",
       "3       Delhi-NCR           52.0    1200.0                  4.153355\n",
       "4         Gujarat            4.0       6.0                 40.000000"
      ]
     },
     "execution_count": 27,
     "metadata": {},
     "output_type": "execute_result"
    }
   ],
   "source": [
    "# Gathering leads through job assistant in the states(at starting of the x-axis of the plot but \n",
    "# have very low towers) like Karnataka, Delhi-NCR, Andhra Pradesh should be improved\n",
    "state_leads = leads[['state', 'isExternal','id']].groupby(['state','isExternal']).count().reset_index()\n",
    "state_leads = state_leads.pivot(index='state', columns='isExternal', values='id').reset_index()\n",
    "state_leads.columns=['state', 'Job_Assistant', 'External']\n",
    "state_leads = state_leads.fillna(0)\n",
    "state_leads['Job_Assistant_Efficiency'] = state_leads['Job_Assistant']*100/(state_leads['Job_Assistant']+state_leads['External'])\n",
    "state_leads.head()"
   ]
  },
  {
   "cell_type": "code",
   "execution_count": 28,
   "metadata": {},
   "outputs": [
    {
     "data": {
      "image/png": "[encoded data removed]",
      "text/plain": [
       "<Figure size 1440x432 with 1 Axes>"
      ]
     },
     "metadata": {
      "needs_background": "light"
     },
     "output_type": "display_data"
    }
   ],
   "source": [
    "plt.figure(figsize=(20, 6))\n",
    "ax = sns.barplot(x=\"state\", y=\"Job_Assistant_Efficiency\", data=state_leads.sort_values(\"Job_Assistant\", ascending=False))"
   ]
  },
  {
   "cell_type": "markdown",
   "metadata": {},
   "source": [
    "### 2. Epoch and isExternal"
   ]
  },
  {
   "cell_type": "code",
   "execution_count": 29,
   "metadata": {},
   "outputs": [
    {
     "data": {
      "text/plain": [
       "<seaborn.axisgrid.FacetGrid at 0x7fc7480bc908>"
      ]
     },
     "execution_count": 29,
     "metadata": {},
     "output_type": "execute_result"
    },
    {
     "data": {
      "image/png": "[encoded data removed]",
      "text/plain": [
       "<Figure size 360x360 with 1 Axes>"
      ]
     },
     "metadata": {
      "needs_background": "light"
     },
     "output_type": "display_data"
    }
   ],
   "source": [
    "# Graph shows that with time the there is a increase in leads from 3rd party source\n",
    "data['isExternal'] = data['isExternal']*1\n",
    "data['epoch'] = data['receivedAt'].dt.dayofyear\n",
    "data.head()\n",
    "sns.lmplot(y='isExternal', x='epoch', data=data)"
   ]
  },
  {
   "cell_type": "markdown",
   "metadata": {},
   "source": [
    "### 3. Status and state(Conversion Efficiency per state)"
   ]
  },
  {
   "cell_type": "code",
   "execution_count": 30,
   "metadata": {},
   "outputs": [
    {
     "data": {
      "text/html": [
       "<div>\n",
       "<style scoped>\n",
       "    .dataframe tbody tr th:only-of-type {\n",
       "        vertical-align: middle;\n",
       "    }\n",
       "\n",
       "    .dataframe tbody tr th {\n",
       "        vertical-align: top;\n",
       "    }\n",
       "\n",
       "    .dataframe thead th {\n",
       "        text-align: right;\n",
       "    }\n",
       "</style>\n",
       "<table border=\"1\" class=\"dataframe\">\n",
       "  <thead>\n",
       "    <tr style=\"text-align: right;\">\n",
       "      <th>status</th>\n",
       "      <th>state</th>\n",
       "      <th>Interested</th>\n",
       "      <th>Not-Interested</th>\n",
       "      <th>RNR</th>\n",
       "      <th>Net_calls</th>\n",
       "      <th>Converting_Efficiency</th>\n",
       "    </tr>\n",
       "  </thead>\n",
       "  <tbody>\n",
       "    <tr>\n",
       "      <th>0</th>\n",
       "      <td>Andhra Pradesh</td>\n",
       "      <td>2.0</td>\n",
       "      <td>26.0</td>\n",
       "      <td>36.0</td>\n",
       "      <td>64.0</td>\n",
       "      <td>3.125000</td>\n",
       "    </tr>\n",
       "    <tr>\n",
       "      <th>1</th>\n",
       "      <td>Assam</td>\n",
       "      <td>0.0</td>\n",
       "      <td>4.0</td>\n",
       "      <td>7.0</td>\n",
       "      <td>11.0</td>\n",
       "      <td>0.000000</td>\n",
       "    </tr>\n",
       "    <tr>\n",
       "      <th>2</th>\n",
       "      <td>Bihar</td>\n",
       "      <td>12.0</td>\n",
       "      <td>11.0</td>\n",
       "      <td>12.0</td>\n",
       "      <td>35.0</td>\n",
       "      <td>34.285714</td>\n",
       "    </tr>\n",
       "    <tr>\n",
       "      <th>3</th>\n",
       "      <td>Delhi-NCR</td>\n",
       "      <td>14.0</td>\n",
       "      <td>18.0</td>\n",
       "      <td>30.0</td>\n",
       "      <td>62.0</td>\n",
       "      <td>22.580645</td>\n",
       "    </tr>\n",
       "    <tr>\n",
       "      <th>4</th>\n",
       "      <td>Gujarat</td>\n",
       "      <td>3.0</td>\n",
       "      <td>4.0</td>\n",
       "      <td>5.0</td>\n",
       "      <td>12.0</td>\n",
       "      <td>25.000000</td>\n",
       "    </tr>\n",
       "  </tbody>\n",
       "</table>\n",
       "</div>"
      ],
      "text/plain": [
       "status           state  Interested  Not-Interested   RNR  Net_calls  \\\n",
       "0       Andhra Pradesh         2.0            26.0  36.0       64.0   \n",
       "1                Assam         0.0             4.0   7.0       11.0   \n",
       "2                Bihar        12.0            11.0  12.0       35.0   \n",
       "3            Delhi-NCR        14.0            18.0  30.0       62.0   \n",
       "4              Gujarat         3.0             4.0   5.0       12.0   \n",
       "\n",
       "status  Converting_Efficiency  \n",
       "0                    3.125000  \n",
       "1                    0.000000  \n",
       "2                   34.285714  \n",
       "3                   22.580645  \n",
       "4                   25.000000  "
      ]
     },
     "execution_count": 30,
     "metadata": {},
     "output_type": "execute_result"
    }
   ],
   "source": [
    "# Gathering leads through job assistant in the states(at starting of the x-axis of the plot but \n",
    "# have very low towers) like Karnataka, Delhi-NCR, Andhra Pradesh should be improved\n",
    "status_state = data[['state', 'status','id']].groupby(['state','status']).count().reset_index()\n",
    "status_state = status_state.pivot(index='state', columns='status', values='id').reset_index()\n",
    "status_state = status_state.fillna(0)\n",
    "status_state['Net_calls'] = status_state['Interested']+status_state['Not-Interested']+status_state['RNR']\n",
    "status_state['Converting_Efficiency'] = status_state['Interested']*100/status_state['Net_calls']\n",
    "status_state.head()"
   ]
  },
  {
   "cell_type": "code",
   "execution_count": 32,
   "metadata": {},
   "outputs": [
    {
     "data": {
      "image/png": "[encoded data removed]",
      "text/plain": [
       "<Figure size 1440x432 with 1 Axes>"
      ]
     },
     "metadata": {
      "needs_background": "light"
     },
     "output_type": "display_data"
    }
   ],
   "source": [
    "plt.figure(figsize=(20, 6))\n",
    "ax = sns.barplot(x=\"state\", y=\"Converting_Efficiency\", data=status_state.sort_values(\"Net_calls\", ascending=False))"
   ]
  },
  {
   "cell_type": "markdown",
   "metadata": {},
   "source": [
    "### 4. Client & Status(Conversion Efficiency per Client)"
   ]
  },
  {
   "cell_type": "code",
   "execution_count": 33,
   "metadata": {},
   "outputs": [
    {
     "data": {
      "text/html": [
       "<div>\n",
       "<style scoped>\n",
       "    .dataframe tbody tr th:only-of-type {\n",
       "        vertical-align: middle;\n",
       "    }\n",
       "\n",
       "    .dataframe tbody tr th {\n",
       "        vertical-align: top;\n",
       "    }\n",
       "\n",
       "    .dataframe thead th {\n",
       "        text-align: right;\n",
       "    }\n",
       "</style>\n",
       "<table border=\"1\" class=\"dataframe\">\n",
       "  <thead>\n",
       "    <tr style=\"text-align: right;\">\n",
       "      <th>status</th>\n",
       "      <th>client</th>\n",
       "      <th>Interested</th>\n",
       "      <th>Not-Interested</th>\n",
       "      <th>RNR</th>\n",
       "      <th>Net_calls</th>\n",
       "      <th>Converting_Efficiency</th>\n",
       "    </tr>\n",
       "  </thead>\n",
       "  <tbody>\n",
       "    <tr>\n",
       "      <th>0</th>\n",
       "      <td>1 MG</td>\n",
       "      <td>26.0</td>\n",
       "      <td>89.0</td>\n",
       "      <td>222.0</td>\n",
       "      <td>337.0</td>\n",
       "      <td>7.715134</td>\n",
       "    </tr>\n",
       "    <tr>\n",
       "      <th>1</th>\n",
       "      <td>Amazon Flex</td>\n",
       "      <td>38.0</td>\n",
       "      <td>97.0</td>\n",
       "      <td>142.0</td>\n",
       "      <td>277.0</td>\n",
       "      <td>13.718412</td>\n",
       "    </tr>\n",
       "    <tr>\n",
       "      <th>2</th>\n",
       "      <td>BharatPe</td>\n",
       "      <td>0.0</td>\n",
       "      <td>4.0</td>\n",
       "      <td>8.0</td>\n",
       "      <td>12.0</td>\n",
       "      <td>0.000000</td>\n",
       "    </tr>\n",
       "    <tr>\n",
       "      <th>3</th>\n",
       "      <td>Big Basket</td>\n",
       "      <td>7.0</td>\n",
       "      <td>8.0</td>\n",
       "      <td>21.0</td>\n",
       "      <td>36.0</td>\n",
       "      <td>19.444444</td>\n",
       "    </tr>\n",
       "    <tr>\n",
       "      <th>4</th>\n",
       "      <td>Dunzo</td>\n",
       "      <td>31.0</td>\n",
       "      <td>99.0</td>\n",
       "      <td>124.0</td>\n",
       "      <td>254.0</td>\n",
       "      <td>12.204724</td>\n",
       "    </tr>\n",
       "  </tbody>\n",
       "</table>\n",
       "</div>"
      ],
      "text/plain": [
       "status       client  Interested  Not-Interested    RNR  Net_calls  \\\n",
       "0              1 MG        26.0            89.0  222.0      337.0   \n",
       "1       Amazon Flex        38.0            97.0  142.0      277.0   \n",
       "2          BharatPe         0.0             4.0    8.0       12.0   \n",
       "3        Big Basket         7.0             8.0   21.0       36.0   \n",
       "4             Dunzo        31.0            99.0  124.0      254.0   \n",
       "\n",
       "status  Converting_Efficiency  \n",
       "0                    7.715134  \n",
       "1                   13.718412  \n",
       "2                    0.000000  \n",
       "3                   19.444444  \n",
       "4                   12.204724  "
      ]
     },
     "execution_count": 33,
     "metadata": {},
     "output_type": "execute_result"
    }
   ],
   "source": [
    "client_status = data[['client', 'status','id']].groupby(['client','status']).count().reset_index()\n",
    "client_status = client_status.pivot(index='client', columns='status', values='id').reset_index()\n",
    "client_status = client_status.fillna(0)\n",
    "client_status['Net_calls'] = client_status['Interested']+client_status['Not-Interested']+client_status['RNR']\n",
    "client_status['Converting_Efficiency'] = client_status['Interested']*100/client_status['Net_calls']\n",
    "client_status.head()"
   ]
  },
  {
   "cell_type": "code",
   "execution_count": 34,
   "metadata": {},
   "outputs": [
    {
     "data": {
      "image/png": "[encoded data removed]",
      "text/plain": [
       "<Figure size 1440x432 with 1 Axes>"
      ]
     },
     "metadata": {
      "needs_background": "light"
     },
     "output_type": "display_data"
    }
   ],
   "source": [
    "plt.figure(figsize=(20, 6))\n",
    "ax = sns.barplot(x=\"client\", y=\"Converting_Efficiency\", data=client_status.sort_values(\"Net_calls\", ascending=False))"
   ]
  },
  {
   "cell_type": "code",
   "execution_count": null,
   "metadata": {},
   "outputs": [],
   "source": []
  }
 ],
 "metadata": {
  "kernelspec": {
   "display_name": "Python 3",
   "language": "python",
   "name": "python3"
  },
  "language_info": {
   "codemirror_mode": {
    "name": "ipython",
    "version": 3
   },
   "file_extension": ".py",
   "mimetype": "text/x-python",
   "name": "python",
   "nbconvert_exporter": "python",
   "pygments_lexer": "ipython3",
   "version": "3.7.3"
  }
 },
 "nbformat": 4,
 "nbformat_minor": 2
}
